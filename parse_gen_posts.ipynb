{
 "cells": [
  {
   "cell_type": "code",
   "execution_count": 1,
   "id": "aa2ac45f-e25f-4d05-bc87-d388b94a4c4d",
   "metadata": {},
   "outputs": [],
   "source": [
    "import pickle"
   ]
  },
  {
   "cell_type": "code",
   "execution_count": 2,
   "id": "2672b5ff-3641-44d5-a5e4-11b189047157",
   "metadata": {},
   "outputs": [],
   "source": [
    "with open('gpt2_gentext_20220331_131430.txt') as f:   #generated from gpt2 simple, 1500 epochs, lr = 1e-5 and 0,7 temp\n",
    "    lines = f.readlines()"
   ]
  },
  {
   "cell_type": "code",
   "execution_count": 3,
   "id": "47b073c3-7e5e-43d4-a4aa-580ef3359c8e",
   "metadata": {},
   "outputs": [],
   "source": [
    " # <|startoftext|> I've just fallen in love med crushbaarn på. I'm glad jag satte på henne det en gång. Hon andas barn och höll p undan. I ❤ me <|endoftext|>\n",
    " # searchesd and removed neger\n",
    "# <|startoftext|> <|endoftext|> Båda barnen har förseglats mellan två oförtjänta ben. Idag är det Karen. <|endoftext|>\n",
    "\n"
   ]
  },
  {
   "cell_type": "code",
   "execution_count": 4,
   "id": "8bab58f6-f1c5-4966-8f39-5cc0a20a298e",
   "metadata": {},
   "outputs": [
    {
     "name": "stdout",
     "output_type": "stream",
     "text": [
      "202\n"
     ]
    }
   ],
   "source": [
    "print(len(lines[3]))"
   ]
  },
  {
   "cell_type": "code",
   "execution_count": 5,
   "id": "f521b43c-4603-47b1-96a5-2af42c3045f2",
   "metadata": {},
   "outputs": [
    {
     "name": "stdout",
     "output_type": "stream",
     "text": [
      "<|startoftext|> Alla fuktiga er som jag orkat vänta en roll i smulad sjukdom. Alla fuktiga er som jag har byggt i målat ribbla. Alla fuktiga er som jag bjudit in i smulad hemmets fantasy. <|endoftext|>\n",
      "\n"
     ]
    }
   ],
   "source": [
    "print(lines[3])"
   ]
  },
  {
   "cell_type": "code",
   "execution_count": 6,
   "id": "4d0277ef-766c-467f-97dc-1961a30efe10",
   "metadata": {},
   "outputs": [],
   "source": [
    "def remove_breakers(line: str) -> str:\n",
    "    line = line.replace('<|startoftext|>', '')\n",
    "    line = line.replace('<|endoftext|>', '')\n",
    "    line = line.replace('endoftext', '')\n",
    "    line = line.replace('startoftext', '')\n",
    "    line = line.replace('^', '')\n",
    "    line = line.replace('0', '')\n",
    "    line = line.replace('|', '')\n",
    "    line = line.replace('>', '')\n",
    "    line = line.replace('<', '')\n",
    "    line = line.replace('<', '')\n",
    "    line = line.replace('====================', '')\n",
    "    line = line.strip()\n",
    "    line = \" \".join(line.split())\n",
    "    return line"
   ]
  },
  {
   "cell_type": "code",
   "execution_count": 7,
   "id": "b99866e6-c841-4d26-8a52-246d73d079af",
   "metadata": {},
   "outputs": [],
   "source": [
    "def truncate_lines(lines: list) -> list:\n",
    "    lines = [line for line in lines if len(line) < 250]\n",
    "    lines = [line for line in lines if len(line) > 10]\n",
    "    return lines"
   ]
  },
  {
   "cell_type": "code",
   "execution_count": null,
   "id": "7dcee064-be22-486a-bec1-e94442b39bf1",
   "metadata": {},
   "outputs": [],
   "source": []
  },
  {
   "cell_type": "code",
   "execution_count": 8,
   "id": "57fd2942-93dd-49ba-8df0-a79496d76f6f",
   "metadata": {},
   "outputs": [],
   "source": [
    "lines = [remove_breakers(i) for i in lines]"
   ]
  },
  {
   "cell_type": "code",
   "execution_count": 9,
   "id": "59221787-890c-42a6-8e2d-e62f86263018",
   "metadata": {},
   "outputs": [
    {
     "name": "stdout",
     "output_type": "stream",
     "text": [
      "5674\n"
     ]
    }
   ],
   "source": [
    "print(len(lines))"
   ]
  },
  {
   "cell_type": "code",
   "execution_count": 10,
   "id": "460de95c-bcf3-4fc8-9762-f560bb84e892",
   "metadata": {},
   "outputs": [],
   "source": [
    "lines = truncate_lines(lines)"
   ]
  },
  {
   "cell_type": "code",
   "execution_count": 11,
   "id": "214992a4-8ec9-4dba-b92d-4d91fdac891a",
   "metadata": {},
   "outputs": [
    {
     "name": "stdout",
     "output_type": "stream",
     "text": [
      "3502\n"
     ]
    }
   ],
   "source": [
    "print(len(lines))"
   ]
  },
  {
   "cell_type": "code",
   "execution_count": 12,
   "id": "293a0d34-09d5-43c3-ae05-47719e2d1742",
   "metadata": {},
   "outputs": [],
   "source": [
    "#print(lines)"
   ]
  },
  {
   "cell_type": "code",
   "execution_count": 13,
   "id": "f7b1b388-9b4e-462d-88e7-f372fe11f374",
   "metadata": {},
   "outputs": [],
   "source": [
    "#for i in lines:\n",
    "#    print(i)"
   ]
  },
  {
   "cell_type": "code",
   "execution_count": 15,
   "id": "b0a09920-124b-42cb-b6dd-c32d230f2959",
   "metadata": {},
   "outputs": [],
   "source": [
    "pickle.dump(lines, open( \"lines.pickle\", \"wb\" ) )"
   ]
  },
  {
   "cell_type": "code",
   "execution_count": null,
   "id": "d5a9b301-3f95-4cbb-8b2e-01b3fd97e3bc",
   "metadata": {},
   "outputs": [],
   "source": []
  }
 ],
 "metadata": {
  "kernelspec": {
   "display_name": "Python 3 (ipykernel)",
   "language": "python",
   "name": "python3"
  },
  "language_info": {
   "codemirror_mode": {
    "name": "ipython",
    "version": 3
   },
   "file_extension": ".py",
   "mimetype": "text/x-python",
   "name": "python",
   "nbconvert_exporter": "python",
   "pygments_lexer": "ipython3",
   "version": "3.10.0"
  }
 },
 "nbformat": 4,
 "nbformat_minor": 5
}
